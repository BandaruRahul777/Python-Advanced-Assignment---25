{
 "cells": [
  {
   "cell_type": "code",
   "execution_count": null,
   "id": "e5c87b6e",
   "metadata": {},
   "outputs": [],
   "source": [
    "Question 1"
   ]
  },
  {
   "cell_type": "code",
   "execution_count": null,
   "id": "e1bfd0b4",
   "metadata": {},
   "outputs": [],
   "source": [
    "Numpy Ndarray provides a lot of convenient and optimized methods for performing several mathematical operations on vectors.\n",
    "\n",
    "Pandas Dataframe is an in-memory 2-dimensional tabular representation of data. In simpler words, it can be seen as a spreadsheet\n",
    "having rows and columns.\n",
    "\n",
    "Conversion : Dataframe=pandas.DataFrame(array)"
   ]
  },
  {
   "cell_type": "code",
   "execution_count": null,
   "id": "e6ccc59e",
   "metadata": {},
   "outputs": [],
   "source": [
    "Question 2"
   ]
  },
  {
   "cell_type": "code",
   "execution_count": null,
   "id": "bea66b66",
   "metadata": {},
   "outputs": [],
   "source": [
    "Bar chart, Line Chart are used for plotting."
   ]
  },
  {
   "cell_type": "code",
   "execution_count": null,
   "id": "a89b3c23",
   "metadata": {},
   "outputs": [],
   "source": [
    "Question 3"
   ]
  },
  {
   "cell_type": "code",
   "execution_count": null,
   "id": "2ec95909",
   "metadata": {},
   "outputs": [],
   "source": [
    "Legend will help comparison between different stocks, so will be essential on a stock market chart."
   ]
  },
  {
   "cell_type": "code",
   "execution_count": null,
   "id": "a6fb9838",
   "metadata": {},
   "outputs": [],
   "source": [
    "Question 4"
   ]
  },
  {
   "cell_type": "code",
   "execution_count": null,
   "id": "b90c810e",
   "metadata": {},
   "outputs": [],
   "source": [
    "We can use start and end parameters for that. In start we write the date from where we are starting and at the end we write the\n",
    "end date. SO within this span we can restric the duration.Also we can use the parameters like periods for how much times we need\n",
    "the duration and we can also use the frequency parameter."
   ]
  },
  {
   "cell_type": "code",
   "execution_count": null,
   "id": "48cf3979",
   "metadata": {},
   "outputs": [],
   "source": [
    "Question 5"
   ]
  },
  {
   "cell_type": "code",
   "execution_count": null,
   "id": "8f0fe4da",
   "metadata": {},
   "outputs": [],
   "source": [
    "The 180-day moving average is represented as a line on charts and represents the average price over the past 180 days.\n",
    "The moving average can give traders a sense regarding whether the trend is up or down, while also identifying potential support\n",
    "or resistance areas."
   ]
  }
 ],
 "metadata": {
  "kernelspec": {
   "display_name": "Python 3 (ipykernel)",
   "language": "python",
   "name": "python3"
  },
  "language_info": {
   "codemirror_mode": {
    "name": "ipython",
    "version": 3
   },
   "file_extension": ".py",
   "mimetype": "text/x-python",
   "name": "python",
   "nbconvert_exporter": "python",
   "pygments_lexer": "ipython3",
   "version": "3.9.7"
  }
 },
 "nbformat": 4,
 "nbformat_minor": 5
}
